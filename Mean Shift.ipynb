{
 "cells": [
  {
   "cell_type": "code",
   "execution_count": 27,
   "metadata": {},
   "outputs": [],
   "source": [
    "from sklearn.datasets.samples_generator import make_blobs\n"
   ]
  },
  {
   "cell_type": "code",
   "execution_count": 28,
   "metadata": {},
   "outputs": [],
   "source": [
    "X, y = make_blobs(n_samples=15, centers=3, n_features=2)"
   ]
  },
  {
   "cell_type": "code",
   "execution_count": 5,
   "metadata": {},
   "outputs": [],
   "source": [
    "import matplotlib.pyplot as plt\n",
    "import numpy as np"
   ]
  },
  {
   "cell_type": "code",
   "execution_count": 29,
   "metadata": {},
   "outputs": [
    {
     "data": {
      "image/png": "[encoded data removed]",
      "text/plain": [
       "<Figure size 432x288 with 1 Axes>"
      ]
     },
     "metadata": {},
     "output_type": "display_data"
    }
   ],
   "source": [
    "plt.scatter(X[:,0],X[:,1],s=150)\n",
    "plt.show()"
   ]
  },
  {
   "cell_type": "code",
   "execution_count": 8,
   "metadata": {},
   "outputs": [],
   "source": [
    "colors=10*[\"g\",\"r\",\"b\",\"c\",\"k\"]\n"
   ]
  },
  {
   "cell_type": "code",
   "execution_count": 35,
   "metadata": {},
   "outputs": [],
   "source": [
    "class Mean_Shift:\n",
    "    def __init__(self,radius=4):\n",
    "        self.radius=radius\n",
    "    \n",
    "    def fit(self,data):\n",
    "        centroids={}\n",
    "        for i in range(len(data)):\n",
    "            centroids[i]=data[i]\n",
    "        \n",
    "        while True:\n",
    "            new_centroids=[]\n",
    "            for i in centroids:\n",
    "                bandwidth=[]\n",
    "                centroid=centroids[i]\n",
    "                for featuresets in data:\n",
    "                    if np.linalg.norm(featuresets-centroid)<self.radius:\n",
    "                        bandwidth.append(featuresets)\n",
    "                \n",
    "                new_centroid=np.average(bandwidth,axis=0)\n",
    "                new_centroids.append(tuple(new_centroid))\n",
    "            uniques=sorted(list(set(new_centroids)))\n",
    "            \n",
    "            pre_centroids=dict(centroids)\n",
    "            centroids={}\n",
    "            \n",
    "            for i in range(len(uniques)):\n",
    "                centroids[i]=np.array(uniques[i])\n",
    "            \n",
    "            optimized=True\n",
    "            \n",
    "            for i in centroids:\n",
    "                if not np.array_equal(centroids[i],pre_centroids[i]):\n",
    "                    optimized=False\n",
    "                if not optimized:\n",
    "                    break\n",
    "            if optimized:\n",
    "                break\n",
    "        \n",
    "        self.centroids=centroids"
   ]
  },
  {
   "cell_type": "code",
   "execution_count": 36,
   "metadata": {},
   "outputs": [],
   "source": [
    "clf=Mean_Shift()\n",
    "clf.fit(X)\n",
    "centroids=clf.centroids\n"
   ]
  },
  {
   "cell_type": "code",
   "execution_count": 37,
   "metadata": {},
   "outputs": [
    {
     "data": {
      "image/png": "[encoded data removed]",
      "text/plain": [
       "<Figure size 432x288 with 1 Axes>"
      ]
     },
     "metadata": {},
     "output_type": "display_data"
    }
   ],
   "source": [
    "plt.scatter(X[:,0],X[:,1],s=150)\n",
    "\n",
    "for c in centroids:\n",
    "    plt.scatter(centroids[c][0],centroids[c][1],color='k',marker='*',s=150)\n",
    "    \n",
    "plt.show()\n"
   ]
  },
  {
   "cell_type": "code",
   "execution_count": null,
   "metadata": {},
   "outputs": [],
   "source": []
  }
 ],
 "metadata": {
  "kernelspec": {
   "display_name": "Python 3",
   "language": "python",
   "name": "python3"
  },
  "language_info": {
   "codemirror_mode": {
    "name": "ipython",
    "version": 3
   },
   "file_extension": ".py",
   "mimetype": "text/x-python",
   "name": "python",
   "nbconvert_exporter": "python",
   "pygments_lexer": "ipython3",
   "version": "3.6.5"
  }
 },
 "nbformat": 4,
 "nbformat_minor": 2
}
